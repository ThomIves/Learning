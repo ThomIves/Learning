{
 "cells": [
  {
   "cell_type": "markdown",
   "metadata": {},
   "source": [
    "# Problem Statement For Balancing Data For Model Training"
   ]
  },
  {
   "cell_type": "markdown",
   "metadata": {},
   "source": [
    "1. Data used for training models is currently imbalanced.\n",
    "1. Some cases have no representative data.\n",
    "1. Ideally, we want data that is proportional to the population density of the USA.\n",
    "1. The challenge is that we do not have data for COGS between many market pairs.\n",
    "1. We would like to generate an accurate estimates for what these COGS would be.\n",
    "1. We can then use those estimates to better train models."
   ]
  },
  {
   "cell_type": "markdown",
   "metadata": {},
   "source": [
    "## Thought Experiment On Using An LLM"
   ]
  },
  {
   "cell_type": "markdown",
   "metadata": {},
   "source": [
    "* Using an LLM comes down to programming a prompt using role play and the data.\n",
    "* Other than our industry, our company, and our roles, and the model needs, we could tell it what assumptions and analyses would be appropriate."
   ]
  },
  {
   "cell_type": "markdown",
   "metadata": {},
   "source": [
    "### Proposed Test:\n",
    "* Start with a smaller area than the USA.\n",
    "* Test the veracity of this approach using known data, but \"blocking\" SOME OF that known data."
   ]
  }
 ],
 "metadata": {
  "language_info": {
   "name": "python"
  }
 },
 "nbformat": 4,
 "nbformat_minor": 2
}
