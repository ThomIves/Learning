{
 "cells": [
  {
   "cell_type": "markdown",
   "metadata": {},
   "source": [
    "# Faker"
   ]
  },
  {
   "cell_type": "markdown",
   "metadata": {},
   "source": [
    "[Faker Docs](https://faker.readthedocs.io/en/master/)"
   ]
  },
  {
   "cell_type": "markdown",
   "metadata": {},
   "source": [
    "[Creating Synthetic Data with Python Faker Tutorial](https://www.datacamp.com/tutorial/creating-synthetic-data-with-python-faker-tutorial)"
   ]
  },
  {
   "cell_type": "code",
   "execution_count": null,
   "metadata": {},
   "outputs": [],
   "source": [
    "%pip install Faker"
   ]
  },
  {
   "cell_type": "code",
   "execution_count": 5,
   "metadata": {},
   "outputs": [
    {
     "name": "stdout",
     "output_type": "stream",
     "text": [
      "Kelly Hahn\n",
      "steven15@example.net\n",
      "Kuwait\n",
      "\n",
      "Angela Mendez\n",
      "Our recently find suggest stuff whatever. Song anything generation skill. Avoid meeting every child this have leave.\n",
      "Spend here bill. During world can argue later week. Teach natural war offer.\n",
      "26.942877 -175.228705\n",
      "http://www.rogers-deleon.net/\n"
     ]
    }
   ],
   "source": [
    "from faker import Faker\n",
    "\n",
    "\n",
    "fake = Faker()\n",
    "\n",
    "print(fake.name())\n",
    "print(fake.email())\n",
    "print(fake.country())\n",
    "print()\n",
    "print(fake.name())\n",
    "print(fake.text())\n",
    "print(fake.latitude(), fake.longitude())\n",
    "print(fake.url())\n"
   ]
  },
  {
   "cell_type": "code",
   "execution_count": 6,
   "metadata": {},
   "outputs": [
    {
     "name": "stdout",
     "output_type": "stream",
     "text": [
      "carlotagarrido@example.com\n",
      "Botswana\n",
      "Lupita Mariño Piquer\n",
      "Officiis omnis sed maxime quidem veniam. Error aperiam corrupti modi. Atque non possimus quibusdam voluptate necessitatibus quam.\n",
      "61.083832 88.286814\n",
      "https://lino.net/\n"
     ]
    }
   ],
   "source": [
    "fake = Faker(\"es_ES\")\n",
    "print(fake.email())\n",
    "print(fake.country())\n",
    "print(fake.name())\n",
    "print(fake.text())\n",
    "print(fake.latitude(), fake.longitude())\n",
    "print(fake.url())"
   ]
  },
  {
   "cell_type": "markdown",
   "metadata": {},
   "source": [
    "## Extension Using Pandas and Numpy"
   ]
  },
  {
   "cell_type": "markdown",
   "metadata": {},
   "source": [
    "1. Place data into dictionary or a Pandas DataFrame as it's created from loops\n",
    "2. Add columns of numbers using Python Numpy Random functions\n",
    "3. You can control how the numerical data is distributed "
   ]
  },
  {
   "cell_type": "markdown",
   "metadata": {},
   "source": []
  }
 ],
 "metadata": {
  "kernelspec": {
   "display_name": "py310std",
   "language": "python",
   "name": "python3"
  },
  "language_info": {
   "codemirror_mode": {
    "name": "ipython",
    "version": 3
   },
   "file_extension": ".py",
   "mimetype": "text/x-python",
   "name": "python",
   "nbconvert_exporter": "python",
   "pygments_lexer": "ipython3",
   "version": "3.10.4"
  }
 },
 "nbformat": 4,
 "nbformat_minor": 2
}
