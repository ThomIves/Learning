{
 "cells": [
  {
   "cell_type": "markdown",
   "metadata": {},
   "source": [
    "# Create And Manage Python Virtual Environments"
   ]
  },
  {
   "cell_type": "markdown",
   "metadata": {},
   "source": [
    "## Creation Practices"
   ]
  },
  {
   "cell_type": "markdown",
   "metadata": {},
   "source": [
    "You may have multiple Python versions on your computer.\n",
    "You may only have one.\n",
    "If you do have multiple, and you want your Python Virtual Environment to be based on a specific Python version, use the following command line logic:"
   ]
  },
  {
   "cell_type": "markdown",
   "metadata": {},
   "source": [
    "```shell\n",
    "<path/to/specific/python/intpreter> -m venv c:\\path\\to\\myenv\n",
    "```"
   ]
  },
  {
   "cell_type": "markdown",
   "metadata": {},
   "source": [
    "A specific use case would be like the command shown below."
   ]
  },
  {
   "cell_type": "markdown",
   "metadata": {},
   "source": [
    "```shell\n",
    "c:\\>Python312\\python -m venv c:\\path\\to\\myenv\n",
    "```"
   ]
  },
  {
   "cell_type": "markdown",
   "metadata": {},
   "source": [
    "However, if you only have one Python version installed, your Python Virtual Environments that you create will also use that same version of Python.\n",
    "In such cases, you would type the following at a command prompt."
   ]
  },
  {
   "cell_type": "markdown",
   "metadata": {},
   "source": [
    "```shell\n",
    "python -m venv c:\\path\\to\\myenv\n",
    "```"
   ]
  },
  {
   "cell_type": "markdown",
   "metadata": {},
   "source": [
    "## Suggested Management Practices"
   ]
  },
  {
   "cell_type": "markdown",
   "metadata": {},
   "source": [
    "* Put all your Python Virtual Environments into the same folder on your system\n",
    "    * `Windows: C:\\Users\\MyUserName\\Envs\\<virtual-env-name>`\n",
    "    * `Linux: ~/Envs/<virtual-env-name>` (~ is short for your user home directory in Linux)\n",
    "    \n",
    "* To activate a given Python Virtual Environment:\n",
    "    * Navigate to `Envs/<virtual-env-name>/Scripts` for your system and run `activate` (replace \"/\" with \"\\\" for Windows OS)\n",
    "    * Better yet, keep a text file handy that stores lines like the following:\n",
    "        * `~/Envs/<virtual-env-name>/Scripts/activate` (or the Windows equivalent)\n",
    "        * Keep such lines in important Python files that need those virtual environments:\n",
    "            * You can then copy them,\n",
    "            * And paste them at the terminal command prompt.\n",
    "\n",
    "* Once your Python Virtual Environment is created and activated in a given terminal:\n",
    "    * You can `pip install <package-name>` as needed for your Python scripts that use that environment\n",
    "    * You can run `deactivate` to stop using the Python Virtual Environment\n",
    "\n",
    "* If you use a terminal program such as ConEMU, your command prompt will indicate which, if any, Python Virtual Environment that you are using like so ...\n",
    "    \n",
    "    ```shell\n",
    "    Microsoft Windows [Version 10.0.22621.3880]                                                                     \n",
    "                                                                                                                \n",
    "    TIves@ECHO-PF32RX4Y C:\\Users\\TIves\\OneDrive - Echo Global Logistics Inc\\Documents\\Repos\\TL_On_Time              \n",
    "    $ C:\\Users\\TIves\\Envs\\py310std\\Scripts\\activate                                                                 \n",
    "                                                                                                                \n",
    "    (py310std) TIves@ECHO-PF32RX4Y C:\\Users\\TIves\\OneDrive - Echo Global Logistics Inc\\Documents\\Repos\\TL_On_Time   \n",
    "    $\n",
    "    ```\n",
    "\n",
    "* You can setup VS Code to use ConEMU as its default terminal program inside VS Code instead of using PowerShell or CMD."
   ]
  },
  {
   "cell_type": "markdown",
   "metadata": {},
   "source": []
  }
 ],
 "metadata": {
  "language_info": {
   "name": "python"
  }
 },
 "nbformat": 4,
 "nbformat_minor": 2
}
