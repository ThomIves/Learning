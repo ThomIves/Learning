{
 "cells": [
  {
   "cell_type": "markdown",
   "metadata": {},
   "source": [
    "# VS Code Setup As Suggested By Jonas Schmedtmann"
   ]
  },
  {
   "cell_type": "markdown",
   "metadata": {},
   "source": [
    "Jonas is my favorite instructor for web development.\n",
    "He's an expert at HTML, CSS, JavaScript, Web Design Principles, and React.JS.\n",
    "He suggested the following VS Code setups in one of his lectures for React.JS."
   ]
  },
  {
   "cell_type": "markdown",
   "metadata": {},
   "source": [
    "![Jonas](https://codingheroes.io/assets/img/JS-light-small.png)"
   ]
  },
  {
   "cell_type": "markdown",
   "metadata": {},
   "source": [
    "Check out his site [Coding Heroes](https://codingheroes.io/)"
   ]
  },
  {
   "cell_type": "markdown",
   "metadata": {},
   "source": [
    "### Extensions And Themes:\n",
    "* ESLint\n",
    "* Prettier\n",
    "* One Monokai Theme\n",
    "* Material Icons Theme for File Icons"
   ]
  },
  {
   "cell_type": "markdown",
   "metadata": {},
   "source": [
    "### Settings:\n",
    "* Auto save -> onFocusChange\n",
    "* Default formatter -> Prettier - Code formatter\n",
    "* Format on Save -> Check it\n",
    "* ESLint Run -> onSave"
   ]
  },
  {
   "cell_type": "markdown",
   "metadata": {},
   "source": [
    "### Snippets File: New Global Snippets File\n",
    "> From Jonas Schmedtmann"
   ]
  },
  {
   "cell_type": "markdown",
   "metadata": {},
   "source": [
    "```json\n",
    "{\n",
    "    \"Print to console\": {\n",
    "      \"prefix\": \"cl\",\n",
    "      \"scope\": \"javascript,typescript,javascriptreact\",\n",
    "      \"body\": [\"console.log($1)\"],\n",
    "      \"description\": \"console.log\"\n",
    "    },\n",
    "    \"reactComponent\": {\n",
    "      \"prefix\": \"rfc\",\n",
    "      \"scope\": \"javascript,typescript,javascriptreact\",\n",
    "      \"body\": [\n",
    "        \"function ${1:${TM_FILENAME_BASE}}() {\",\n",
    "        \"\\treturn (\",\n",
    "        \"\\t\\t<div>\",\n",
    "        \"\\t\\t\\t$0\",\n",
    "        \"\\t\\t</div>\",\n",
    "        \"\\t)\",\n",
    "        \"}\",\n",
    "        \"\",\n",
    "        \"export default ${1:${TM_FILENAME_BASE}}\",\n",
    "        \"\"\n",
    "      ],\n",
    "      \"description\": \"React component\"\n",
    "    },\n",
    "    \"reactStyledComponent\": {\n",
    "      \"prefix\": \"rsc\",\n",
    "      \"scope\": \"javascript,typescript,javascriptreact\",\n",
    "      \"body\": [\n",
    "        \"import styled from 'styled-components'\",\n",
    "        \"\",\n",
    "        \"const Styled${TM_FILENAME_BASE} = styled.$0``\",\n",
    "        \"\",\n",
    "        \"function ${TM_FILENAME_BASE}() {\",\n",
    "        \"\\treturn (\",\n",
    "        \"\\t\\t<Styled${TM_FILENAME_BASE}>\",\n",
    "        \"\\t\\t\\t${TM_FILENAME_BASE}\",\n",
    "        \"\\t\\t</Styled${TM_FILENAME_BASE}>\",\n",
    "        \"\\t)\",\n",
    "        \"}\",\n",
    "        \"\",\n",
    "        \"export default ${TM_FILENAME_BASE}\",\n",
    "        \"\"\n",
    "      ],\n",
    "      \"description\": \"React styled component\"\n",
    "    }\n",
    "  }\n",
    " ```\n"
   ]
  }
 ],
 "metadata": {
  "language_info": {
   "name": "python"
  }
 },
 "nbformat": 4,
 "nbformat_minor": 2
}
