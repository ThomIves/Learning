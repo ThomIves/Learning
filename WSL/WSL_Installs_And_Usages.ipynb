{
 "cells": [
  {
   "cell_type": "markdown",
   "metadata": {},
   "source": [
    "# WSL"
   ]
  },
  {
   "cell_type": "markdown",
   "metadata": {},
   "source": [
    "## SUMMARY:\n",
    "\n"
   ]
  },
  {
   "cell_type": "markdown",
   "metadata": {},
   "source": [
    "* To Find Available Distributions: `wsl --list --online`\n",
    "* To Install A Specific Distribution: `wsl --install -d <DistributionName>`\n",
    "* To Launch VS Code For A Directory: `code .`\n",
    "* To Start A WSL Distribution: `wsl -d <DistributionName>`\n",
    "* MOST OF THE TIME, use: `wsl -d Ubuntu-20.04`\n",
    "\n"
   ]
  },
  {
   "cell_type": "markdown",
   "metadata": {},
   "source": [
    "## Introduction to Windows Subsystem for Linux (WSL)\n",
    "\n"
   ]
  },
  {
   "cell_type": "markdown",
   "metadata": {},
   "source": [
    "Windows Subsystem for Linux (WSL) is a compatibility layer that allows you to run a Linux environment directly on a Windows system. It provides a way to use Linux command-line tools, utilities, and applications on a Windows platform without the need for a traditional virtual machine or dual-boot setup.\n",
    "\n"
   ]
  },
  {
   "cell_type": "markdown",
   "metadata": {},
   "source": [
    "## Benefits of WSL\n",
    "\n"
   ]
  },
  {
   "cell_type": "markdown",
   "metadata": {},
   "source": [
    "WSL offers several advantages over other methods of running Linux on Windows, such as virtual machines or dual-booting. Some of the benefits include:\n",
    "\n",
    "* Integration: WSL enables seamless integration between Windows and Linux, allowing you to use both Windows and Linux command-line tools and GUI applications.\n",
    "* Performance: WSL provides improved performance compared to traditional virtual machines, as it runs Linux binaries natively on Windows without the need for hardware virtualization.\n",
    "* Compatibility: WSL ensures compatibility between development and production environments, making it easier for web developers and those working with Linux-first tools to use their tools on Windows.\n",
    "* Ease of installation: Installing WSL has become simpler over time. You can install WSL by opening an elevated Command Prompt window and running the wsl --install command.\n",
    "\n"
   ]
  },
  {
   "cell_type": "markdown",
   "metadata": {},
   "source": [
    "## Setting up WSL\n",
    "\n"
   ]
  },
  {
   "cell_type": "markdown",
   "metadata": {},
   "source": [
    "To set up WSL, follow these steps:\n",
    "\n",
    "* Open an elevated Command Prompt window.\n",
    "* Run the command `wsl --install`. If this command fails and displays a WSL help screen, it means that WSL is already installed.\n",
    "\n"
   ]
  },
  {
   "cell_type": "markdown",
   "metadata": {},
   "source": [
    "To see a list of available Linux distributions, run the command `wsl --list --online`.\n",
    "* Install a Linux distribution by running the command `wsl --install -d <DistributionName>`, replacing <DistributionName> with the name of the distribution you want to use.\n",
    "\n"
   ]
  },
  {
   "cell_type": "markdown",
   "metadata": {},
   "source": [
    "## Running WSL Commands\n",
    "\n"
   ]
  },
  {
   "cell_type": "markdown",
   "metadata": {},
   "source": [
    "* Once you have set up WSL, you can run various commands to interact with your Linux distribution. Here are a few examples:\n",
    "* To launch a new instance of Visual Studio Code connected to WSL, use the command `code .` .\n",
    "* To run a specific WSL distribution from within PowerShell or Windows Command Prompt without changing your default distribution, use the command `wsl -d <DistributionName>`, replacing <DistributionName> with the name of the distribution you want to use.\n",
    "\n"
   ]
  },
  {
   "cell_type": "markdown",
   "metadata": {},
   "source": [
    "## Additional Resources\n",
    "\n"
   ]
  },
  {
   "cell_type": "markdown",
   "metadata": {},
   "source": [
    "If you want to learn more about WSL and its features, you can explore the following resources:\n",
    "* Training Introduction to Windows Subsystem for Linux (WSL) - This training module provides an introduction to WSL, covering topics such as installation, setting up a development environment, and using WSL with recommended IDEs and tools.\n",
    "* Windows Subsystem for Linux (WSL) on Microsoft Learn - This Microsoft Learn path offers a comprehensive guide to installing and using WSL, including information on WSL 2 and its benefits.\n",
    "\n"
   ]
  }
 ],
 "metadata": {
  "language_info": {
   "name": "python"
  }
 },
 "nbformat": 4,
 "nbformat_minor": 2
}
