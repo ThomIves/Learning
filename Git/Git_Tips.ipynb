{
 "cells": [
  {
   "cell_type": "markdown",
   "metadata": {},
   "source": [
    "# Common Git Procedures"
   ]
  },
  {
   "cell_type": "markdown",
   "metadata": {},
   "source": [
    "## Top Three\n",
    "* `git add .`\n",
    "* `git commit -a -m “message about commit”`\n",
    "* `git push`\n",
    "    * `git push --force` … carefully\n",
    "    * `git push --set-upstream origin <branch_name>` … or … \n",
    "            `git push -u origin <branch_name>`\n",
    "\n"
   ]
  },
  {
   "cell_type": "markdown",
   "metadata": {},
   "source": [
    "## To Overwrite Local Work With A “pull / fetch …”\n",
    "* Usually: `git pull`, but also …\n",
    "\n",
    "Or, these next two in sequence:\n",
    "* `git fetch --all`\n",
    "* `git reset --hard origin/main`"
   ]
  },
  {
   "cell_type": "markdown",
   "metadata": {},
   "source": [
    "## List Branches:\n",
    "* To display a list of all local branches: `git branch`\n",
    "* To display a list of all remote branches: `git branch -r`\n",
    "* To display both local and remote branches: `git branch -a`"
   ]
  },
  {
   "cell_type": "markdown",
   "metadata": {},
   "source": [
    "## Basic Switching: \n",
    "* To switch to a different branch: `git switch <branch-name>`\n",
    "* To create and switch to a new branch: `git switch -c <new-branch-name>`"
   ]
  },
  {
   "cell_type": "markdown",
   "metadata": {},
   "source": [
    "## To Create A New Branch\n",
    "* Create a New Branch and Switch to It: `git checkout -b <branch_name>`\n",
    "* Base a New Branch on Existing Branch: `git checkout -b <new_branch> <existing_branch>`"
   ]
  },
  {
   "cell_type": "markdown",
   "metadata": {},
   "source": [
    "## Merging Feature Work Back To Main\n",
    "> https://stackoverflow.com/questions/5601931/how-do-i-safely-merge-a-git-branch-into-master\n",
    "\n",
    "1. `git checkout main`\n",
    "1. `git pull origin main`\n",
    "1. `git merge feature_branch_name`\n",
    "1. `git push origin main`\n",
    "\n",
    "\n",
    " .\n"
   ]
  }
 ],
 "metadata": {
  "language_info": {
   "name": "python"
  }
 },
 "nbformat": 4,
 "nbformat_minor": 2
}
